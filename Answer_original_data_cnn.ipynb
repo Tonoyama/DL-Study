{
  "nbformat": 4,
  "nbformat_minor": 0,
  "metadata": {
    "language_info": {
      "codemirror_mode": {
        "name": "ipython",
        "version": 3
      },
      "file_extension": ".py",
      "mimetype": "text/x-python",
      "name": "python",
      "nbconvert_exporter": "python",
      "pygments_lexer": "ipython3",
      "version": "3.8.2-final"
    },
    "orig_nbformat": 2,
    "kernelspec": {
      "name": "python3",
      "display_name": "Python 3.8.2 64-bit",
      "metadata": {
        "interpreter": {
          "hash": "31f2aee4e71d21fbe5cf8b01ff0e069b9275f58929596ceb00d14d90e3e16cd6"
        }
      }
    },
    "colab": {
      "name": "Answer_original_data_cnn.ipynb",
      "provenance": [],
      "include_colab_link": true
    },
    "accelerator": "GPU"
  },
  "cells": [
    {
      "cell_type": "markdown",
      "metadata": {
        "id": "view-in-github",
        "colab_type": "text"
      },
      "source": [
        "<a href=\"https://colab.research.google.com/github/Tonoyama/DL-Study/blob/master/Answer_original_data_cnn.ipynb\" target=\"_parent\"><img src=\"https://colab.research.google.com/assets/colab-badge.svg\" alt=\"Open In Colab\"/></a>"
      ]
    },
    {
      "cell_type": "markdown",
      "metadata": {
        "id": "SGZv2BY69Lr-"
      },
      "source": [
        "# 自作データセットを CNN(Convolutional Neural Network) で分析する\n",
        "\n",
        "今まで、MNIST や Fasion MNIST といった有名なデータセットを使ってきたが、研究や趣味などで自分の好きなデータセットを分類したい場合は多い。\n",
        "\n",
        "今回は、自作データセットを読み込み CNN で分類を行う。"
      ]
    },
    {
      "cell_type": "markdown",
      "metadata": {
        "id": "mp3NgJsAtT-q"
      },
      "source": [
        "## `OpenCV` の使い方\n",
        "\n",
        "`OpenCV` は BSDライセンスの画像処理ライブラリ。Python と C++ で使える。\n",
        "\n",
        "`OpenCV` 以外にも `Pillow` や `Numpy` も画像処理に使う。"
      ]
    },
    {
      "cell_type": "markdown",
      "metadata": {
        "id": "zr5X9QMCuEZy"
      },
      "source": [
        "標準画像データベースSIDBA(Standard Image Data-BAse)が公開している有名な画像を使う。\n",
        "\n",
        "http://www.ess.ic.kanagawa-it.ac.jp/app_images_j.html よりマンドリル(サルの一種)の画像を `curl` で取ってくる。\n",
        "\n",
        "`-o` オプションで `Mandrill.jpg` という名前にする。\n",
        "\n",
        "`colab` ファイル内に `Mandrill.jpg` が増えている。"
      ]
    },
    {
      "cell_type": "code",
      "metadata": {
        "id": "KkmL77v4tTKR"
      },
      "source": [
        "!curl http://www.ess.ic.kanagawa-it.ac.jp/std_img/colorimage/Mandrill.jpg -o Mandrill.jpg"
      ],
      "execution_count": null,
      "outputs": []
    },
    {
      "cell_type": "markdown",
      "metadata": {
        "id": "Axhl8Bjzvhpb"
      },
      "source": [
        "\n",
        "`opencv 画像 表示` で検索し、画像(`Mandrill.jpg`)を**グレースケール**で表示する。\n",
        "\n",
        "このとき、`colab` 特有のエラーが出たりする場合もあるので、その際は、エラーログを調べる。"
      ]
    },
    {
      "cell_type": "code",
      "metadata": {
        "id": "7heMc4bKwBEY"
      },
      "source": [
        "import cv2\n",
        "from google.colab.patches import cv2_imshow\n",
        "\n",
        "img_name = \"Mandrill.jpg\"\n",
        "\n",
        "img = cv2.imread(img_name, 0)\n",
        "cv2_imshow(img)"
      ],
      "execution_count": null,
      "outputs": []
    },
    {
      "cell_type": "code",
      "metadata": {
        "id": "zv3B5q_Ex__u"
      },
      "source": [
        "img = cv2.imread(img_name)\n",
        "cv2_imshow(img)"
      ],
      "execution_count": null,
      "outputs": []
    },
    {
      "cell_type": "markdown",
      "metadata": {
        "id": "z0MYNPXy45Ke"
      },
      "source": [
        "`opencv python` で検索すると様々な機能を紹介するチュートリアルを見つけられる。\n",
        "\n",
        "遊んでみると結構楽しい"
      ]
    },
    {
      "cell_type": "markdown",
      "metadata": {
        "id": "_d4O4JF54NXI"
      },
      "source": [
        "カラー画像のヒストグラムをプロットしてみると、赤と青の輝度が大きい事が分かる"
      ]
    },
    {
      "cell_type": "code",
      "metadata": {
        "id": "7mqJ5nZm3v8v"
      },
      "source": [
        "import cv2\n",
        "import numpy as np\n",
        "from matplotlib import pyplot as plt\n",
        "\n",
        "img = cv2.imread(img_name)\n",
        "color = ('b','g','r')\n",
        "for i,col in enumerate(color):\n",
        "    histr = cv2.calcHist([img],[i],None,[256],[0,256])\n",
        "    plt.plot(histr,color = col)\n",
        "    plt.xlim([0,256])\n",
        "plt.show()"
      ],
      "execution_count": null,
      "outputs": []
    },
    {
      "cell_type": "markdown",
      "metadata": {
        "id": "_Ye0uB9j1A1G"
      },
      "source": [
        "エッジ検出してみる。\n",
        "\n",
        "`min_val` を 100、`max_val` を 200 ぐらいにするといい感じ"
      ]
    },
    {
      "cell_type": "code",
      "metadata": {
        "id": "Kv8jbjrw1Afq"
      },
      "source": [
        "import cv2\n",
        "\n",
        "gray_img = cv2.imread(img_name, 0)\n",
        "canny_img = cv2.Canny(gray_img, 100, 200)\n",
        "cv2_imshow(canny_img)"
      ],
      "execution_count": null,
      "outputs": []
    },
    {
      "cell_type": "markdown",
      "metadata": {
        "id": "blU34kdLDX6u"
      },
      "source": [
        "## 犬と猫を分類する\n",
        "\n",
        "画像を表示してみる。"
      ]
    },
    {
      "cell_type": "markdown",
      "metadata": {
        "id": "qCB0zEVYpifn"
      },
      "source": [
        "### データセットを用意する\n",
        "\n",
        "今回は 手作業でも `curl` でも出来るようにしている。\n"
      ]
    },
    {
      "cell_type": "markdown",
      "metadata": {
        "id": "a4O2QhV2-k7i"
      },
      "source": [
        "#### 手作業の場合\n",
        "\n",
        "下記の URL から zip ファイルをダウンロードし、Google ドライブにファイルをアップロードする。\n",
        "\n",
        "https://www.microsoft.com/en-us/download/details.aspx?id=54765\n",
        "\n",
        "`drive.mount('/content/drive')` でドライブをマウントし、`MyDrive`内にある zip ファイルを `unzip` する。"
      ]
    },
    {
      "cell_type": "code",
      "metadata": {
        "id": "wuSpFgwF-OEZ"
      },
      "source": [
        "from google.colab import drive\n",
        "drive.mount('/content/drive')"
      ],
      "execution_count": null,
      "outputs": []
    },
    {
      "cell_type": "markdown",
      "metadata": {
        "id": "ylBuJTEDXtli"
      },
      "source": [
        "#### curl の場合\n",
        "\n",
        "`-o` オプションで `cat_dog.zip` という名前にする。\n",
        "\n",
        "あとは、`unzip`すれば良い。"
      ]
    },
    {
      "cell_type": "code",
      "metadata": {
        "id": "MTt_liYxpqu8"
      },
      "source": [
        "!curl https://download.microsoft.com/download/3/E/1/3E1C3F21-ECDB-4869-8368-6DEBA77B919F/kagglecatsanddogs_3367a.zip -o cat_dog.zip"
      ],
      "execution_count": null,
      "outputs": []
    },
    {
      "cell_type": "code",
      "metadata": {
        "tags": [
          "outputPrepend"
        ],
        "id": "8pLq0RBEpifr"
      },
      "source": [
        "!unzip /content/cat_dog.zip"
      ],
      "execution_count": null,
      "outputs": []
    },
    {
      "cell_type": "markdown",
      "metadata": {
        "id": "c3ZNLVzNV0El"
      },
      "source": [
        "### データセットを確認する\n",
        "\n",
        "画像の命名規則は `数字` + `.jpg` になっていて、サイズは不揃い。"
      ]
    },
    {
      "cell_type": "code",
      "metadata": {
        "id": "Womq84u0Df1b"
      },
      "source": [
        "from matplotlib import pyplot\n",
        "from matplotlib.image import imread\n",
        "folder = \"/content/PetImages/Dog/\"\n",
        "\n",
        "for i in range(9):\n",
        "\tpyplot.subplot(330 + 1 + i)\n",
        "\tfilename = folder + str(i) + '.jpg'\n",
        "\timage = imread(filename)\n",
        "\tpyplot.imshow(image)\n",
        "pyplot.show()"
      ],
      "execution_count": null,
      "outputs": []
    },
    {
      "cell_type": "markdown",
      "metadata": {
        "id": "py0do0n5ER1J"
      },
      "source": [
        "自作データセットでは、画像サイズが揃っていない場合が多いため、全て揃えてやる必要がある。\n",
        "\n",
        "拡張子が揃っていない場合、pillow で変換してやると良い。"
      ]
    },
    {
      "cell_type": "code",
      "metadata": {
        "id": "IdX5g3v3EId3"
      },
      "source": [
        "from matplotlib import pyplot\n",
        "from matplotlib.image import imread\n",
        "folder = \"/content/PetImages/Cat/\"\n",
        "\n",
        "for i in range(9):\n",
        "\tpyplot.subplot(330 + 1 + i)\n",
        "\tfilename = folder + str(i) + '.jpg'\n",
        "\timage = imread(filename)\n",
        "\tpyplot.imshow(image)\n",
        "pyplot.show()"
      ],
      "execution_count": null,
      "outputs": []
    },
    {
      "cell_type": "code",
      "metadata": {
        "id": "mCN5bXd0pifu"
      },
      "source": [
        "import matplotlib.pyplot as plt\n",
        "import os\n",
        "import cv2\n",
        "import random\n",
        "import numpy as np\n",
        "from tqdm.notebook import tqdm\n",
        "\n",
        "\n",
        "DATADIR = \"./PetImages\" # 全データセットが含まれるフォルダ名\n",
        "\n",
        "CATEGORIES = [\"Dog\", \"Cat\"] # 各フォルダ名(カテゴリ名)を指定\n",
        "\n",
        "IMG_SIZE = 50 # 画像サイズを指定\n",
        "\n",
        "training_data = [] # 画像データ、ラベル情報 を入れるための空配列\n",
        "\n",
        "\n",
        "def create_training_data():\n",
        "    # enumerate() を使うと　インデックス と 要素 を同時に取得できる\n",
        "    for class_num, category in enumerate(CATEGORIES):\n",
        "        path = os.path.join(DATADIR, category)\n",
        "        for image_name in tqdm(os.listdir(path)):\n",
        "            try:\n",
        "                img_array = cv2.imread(os.path.join(path, image_name),)  # 画像読み込み\n",
        "                img_resize_array = cv2.resize(img_array, (IMG_SIZE, IMG_SIZE))  # 画像のリサイズ\n",
        "                training_data.append([img_resize_array, class_num])  # 画像データ、ラベル情報を追加\n",
        "            except Exception as e:\n",
        "                pass\n",
        "\n",
        "create_training_data()\n",
        "\n",
        "\n",
        "random.shuffle(training_data)  # データをシャッフル\n",
        "\n",
        "\n",
        "X = []  # 画像データ\n",
        "y = []  # ラベル情報\n",
        "\n",
        "# データセット作成\n",
        "# 画像(feature), ラベル情報(label)\n",
        "for feature, label in training_data:\n",
        "    X.append(feature)\n",
        "    y.append(label)\n",
        "\n",
        "# numpy配列に変換\n",
        "X = np.array(X)\n",
        "y = np.array(y)"
      ],
      "execution_count": null,
      "outputs": []
    },
    {
      "cell_type": "markdown",
      "metadata": {
        "id": "-G2daTtBImKi"
      },
      "source": [
        "ラベルとデータを可視化"
      ]
    },
    {
      "cell_type": "code",
      "metadata": {
        "id": "HySyXnXyHUcy"
      },
      "source": [
        "# データセットの確認\n",
        "for i in range(0, 4):\n",
        "    print(\"学習データのラベル：\", y[i])\n",
        "    plt.subplot(2, 2, i+1)\n",
        "    plt.axis('off')\n",
        "    plt.title(label = 'Dog' if y[i] == 0 else 'Cat')\n",
        "    img_array = cv2.cvtColor(X[i], cv2.COLOR_BGR2RGB)\n",
        "    plt.imshow(img_array)\n",
        "\n",
        "plt.show()"
      ],
      "execution_count": null,
      "outputs": []
    },
    {
      "cell_type": "markdown",
      "metadata": {
        "id": "g0v5fqN5pifv"
      },
      "source": [
        "`shape` でデータの次元数を確認する\n",
        "\n",
        "50 x 50 の RGB であることがわかる"
      ]
    },
    {
      "cell_type": "code",
      "metadata": {
        "id": "jLI6aqGDpifw"
      },
      "source": [
        "print(X.shape)\n",
        "print(y.shape)"
      ],
      "execution_count": null,
      "outputs": []
    },
    {
      "cell_type": "markdown",
      "metadata": {
        "id": "loeCIeMEpifw"
      },
      "source": [
        "### ホールドアウト法でデータセットを分割"
      ]
    },
    {
      "cell_type": "code",
      "metadata": {
        "id": "dmNYNqzapifw"
      },
      "source": [
        "from sklearn.model_selection import train_test_split\n",
        "\n",
        "X_train, X_test, y_train, y_test = train_test_split(X, y, test_size=0.2, random_state=100,\n",
        "                                                    stratify=y)"
      ],
      "execution_count": null,
      "outputs": []
    },
    {
      "cell_type": "markdown",
      "metadata": {
        "id": "7caHC7RG8bwV"
      },
      "source": [
        "X_train, X_test, y_train, y_test の次元を確認する"
      ]
    },
    {
      "cell_type": "code",
      "metadata": {
        "id": "PdUmyUgepifw"
      },
      "source": [
        "print(X_train.shape)\n",
        "print(X_test.shape)\n",
        "print(y_train.shape)\n",
        "print(y_test.shape)"
      ],
      "execution_count": null,
      "outputs": []
    },
    {
      "cell_type": "markdown",
      "metadata": {
        "id": "3iqGCNQEpifx"
      },
      "source": [
        "`BGR` になっているので `RGB` に変更する。"
      ]
    },
    {
      "cell_type": "code",
      "metadata": {
        "id": "NkdlmUuzpifx"
      },
      "source": [
        "fig = plt.figure(figsize=(9, 15))\n",
        "fig.subplots_adjust(left=0, right=1, bottom=0, top=0.5, hspace=0.05,\n",
        "                    wspace=0.05)\n",
        "\n",
        "for i in range(9):\n",
        "    ax = fig.add_subplot(1, 9, i + 1, xticks=[], yticks=[])\n",
        "    img_array = cv2.cvtColor(X_train[i], cv2.COLOR_BGR2RGB)\n",
        "    ax.imshow(img_array)"
      ],
      "execution_count": null,
      "outputs": []
    },
    {
      "cell_type": "markdown",
      "metadata": {
        "id": "IGRXuj3npifx"
      },
      "source": [
        "`X_train`, `X_test` は画素値を `255` で割ることで `0` ~ `1` に正規化する。\n",
        "\n",
        "`y_train`, `y_test` は正解ラベルを One-hot エンコーディングする。keras を使うと簡単。"
      ]
    },
    {
      "cell_type": "code",
      "metadata": {
        "id": "yNU_vyuX7rUk"
      },
      "source": [
        "from tensorflow.keras.utils import to_categorical\n",
        "\n",
        "X_train = X_train.reshape((X_train.shape[0], 50, 50, 3)) / 255\n",
        "X_test = X_test.reshape((X_test.shape[0], 50, 50, 3)) / 255\n",
        "y_train = to_categorical(y_train)\n",
        "y_test = to_categorical(y_test)"
      ],
      "execution_count": null,
      "outputs": []
    },
    {
      "cell_type": "markdown",
      "metadata": {
        "id": "6cr1mTl88aiN"
      },
      "source": [
        "X_train, X_test, y_train, y_test の次元を確認すると変わっている点がある。"
      ]
    },
    {
      "cell_type": "code",
      "metadata": {
        "id": "VRTji0EUpify"
      },
      "source": [
        "print(X_train.shape)\n",
        "print(X_test.shape)\n",
        "print(y_train.shape)\n",
        "print(y_test.shape)"
      ],
      "execution_count": null,
      "outputs": []
    },
    {
      "cell_type": "markdown",
      "metadata": {
        "id": "lwK7Y-39AEcH"
      },
      "source": [
        "### モデル定義"
      ]
    },
    {
      "cell_type": "code",
      "metadata": {
        "id": "1o12yK3kafXU"
      },
      "source": [
        "from __future__ import absolute_import, division, print_function, unicode_literals\n",
        "\n",
        "try:\n",
        "  # %tensorflow_version only exists in Colab.\n",
        "  %tensorflow_version 2.x\n",
        "except Exception:\n",
        "  pass"
      ],
      "execution_count": null,
      "outputs": []
    },
    {
      "cell_type": "code",
      "metadata": {
        "id": "cmnXIkf8ajuW"
      },
      "source": [
        "%load_ext tensorboard"
      ],
      "execution_count": null,
      "outputs": []
    },
    {
      "cell_type": "code",
      "metadata": {
        "id": "-837fS2A8XW3"
      },
      "source": [
        "import tensorflow.keras as keras\n",
        "from tensorflow.keras.models import Sequential, Model\n",
        "from tensorflow.keras.layers import Dense, Conv2D, MaxPooling2D, Flatten, Input, Activation, add, Add, Dropout, BatchNormalization\n",
        "from tensorflow.keras.callbacks import TensorBoard\n",
        "\n",
        "model = Sequential()\n",
        "\n",
        "model.add(Conv2D(16, kernel_size=(5, 5), activation='relu',\n",
        "                 kernel_initializer='he_normal', input_shape=(50, 50, 3)))\n",
        "model.add(MaxPooling2D(pool_size=(2, 2)))\n",
        "model.add(Conv2D(64, kernel_size=(5, 5), activation='relu',\n",
        "                 kernel_initializer='he_normal'))\n",
        "model.add(MaxPooling2D(pool_size=(2, 2)))\n",
        "\n",
        "model.add(Flatten())\n",
        "model.add(Dense(2, activation='softmax'))\n",
        "\n",
        "model.compile(\n",
        "    loss=keras.losses.binary_crossentropy,\n",
        "    optimizer='adam',\n",
        "    metrics=['accuracy']\n",
        ")"
      ],
      "execution_count": null,
      "outputs": []
    },
    {
      "cell_type": "markdown",
      "metadata": {
        "id": "hYYuEeooTlHc"
      },
      "source": [
        "モデルを可視化する"
      ]
    },
    {
      "cell_type": "code",
      "metadata": {
        "id": "IsANjwWcW-M5"
      },
      "source": [
        "model.summary()"
      ],
      "execution_count": null,
      "outputs": []
    },
    {
      "cell_type": "code",
      "metadata": {
        "id": "g4scXx3ARykb"
      },
      "source": [
        "from keras.utils import plot_model\n",
        "plot_model(model, to_file='model.png')"
      ],
      "execution_count": null,
      "outputs": []
    },
    {
      "cell_type": "markdown",
      "metadata": {
        "id": "x8zbOge-Am34"
      },
      "source": [
        "Keras の実装は下記 URL をみると様々な実装があって良い。\n",
        "\n",
        "https://keras.io/examples"
      ]
    },
    {
      "cell_type": "markdown",
      "metadata": {
        "id": "NoseOJnnVBj0"
      },
      "source": [
        "### 学習"
      ]
    },
    {
      "cell_type": "code",
      "metadata": {
        "id": "NcPe58qzAofm"
      },
      "source": [
        "tf_callback = TensorBoard(log_dir=\"logs\", histogram_freq=1)\n",
        "\n",
        "model.fit(x=X_train, y=y_train, batch_size=128, epochs=10, verbose=1,\n",
        "          validation_data=(X_test, y_test), callbacks=[tf_callback])\n",
        "\n",
        "model.evaluate(X_test,  y_test, verbose=2)"
      ],
      "execution_count": null,
      "outputs": []
    },
    {
      "cell_type": "markdown",
      "metadata": {
        "id": "t7r24djPbSZD"
      },
      "source": [
        "TensorBoard で結果を可視化する。"
      ]
    },
    {
      "cell_type": "code",
      "metadata": {
        "id": "f7GzWgmmazXt"
      },
      "source": [
        "%tensorboard --logdir logs"
      ],
      "execution_count": null,
      "outputs": []
    },
    {
      "cell_type": "code",
      "metadata": {
        "id": "3uM2HOaRa0Cb"
      },
      "source": [
        ""
      ],
      "execution_count": null,
      "outputs": []
    }
  ]
}